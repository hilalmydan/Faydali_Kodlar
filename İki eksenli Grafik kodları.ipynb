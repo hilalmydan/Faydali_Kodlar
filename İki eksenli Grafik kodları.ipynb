{
 "cells": [
  {
   "cell_type": "code",
   "execution_count": 1,
   "id": "decc0f96",
   "metadata": {},
   "outputs": [],
   "source": [
    "import numpy as np # linear algebra\n",
    "import pandas as pd # data processing, CSV file I/O (e.g. pd.read_csv)\n",
    "import matplotlib.pyplot as plt\n",
    "import seaborn as sns"
   ]
  },
  {
   "cell_type": "code",
   "execution_count": null,
   "id": "af4e7893",
   "metadata": {},
   "outputs": [],
   "source": [
    "#Kodu dosyanın bulunduğu konumda aç\n",
    "df = pd.read_csv('dosya-adı',header=0)"
   ]
  },
  {
   "cell_type": "markdown",
   "id": "624757e5",
   "metadata": {},
   "source": [
    "# Bazı işe yarar kodlar"
   ]
  },
  {
   "cell_type": "code",
   "execution_count": null,
   "id": "2c74589c",
   "metadata": {},
   "outputs": [],
   "source": [
    "#Bazı işe yarar kodlar\n",
    "df.head() # datanın baştan ilk 5 rowunu bastırır.\n",
    "df.columns #columnları gösterir.\n",
    "df.info() #ayrıntı verir data hakkında\n"
   ]
  },
  {
   "cell_type": "code",
   "execution_count": null,
   "id": "88c1d542",
   "metadata": {},
   "outputs": [],
   "source": [
    "#column name'in türlerine göre sayısını verir. yani x'in içindeki o değişkenden kaç çeşidinden kaç tane var.\n",
    "\n",
    "x['ChargeG_Flag_COUNT_LAST3'].value_counts() \n",
    "\n",
    "'''\n",
    "charge değişkeninin alabildiği değerleri saydırır,dataframede toplam kaç tane var \n",
    "o değişkenin alabildiği değerlerden?\n",
    "\n",
    "'''"
   ]
  },
  {
   "cell_type": "markdown",
   "id": "cf028284",
   "metadata": {},
   "source": [
    "# How to create new column based on values from other columns with pandas"
   ]
  },
  {
   "cell_type": "code",
   "execution_count": null,
   "id": "f607a63b",
   "metadata": {},
   "outputs": [],
   "source": [
    "#Bu kod yardımıyla yapılabilir   \n",
    "#Burada return'e string yazmakla int yazmak sonuçları grafikte biraz değiştiriyor aklında bulunsun.\n",
    "\n",
    "def label_race (row):\n",
    "    if row['ChargeG_Flag_COUNT_LAST3'] == 0 :\n",
    "        return '0'\n",
    "    if row['ChargeG_Flag_COUNT_LAST3'] == 1 :\n",
    "        return '1'\n",
    "    if row['ChargeG_Flag_COUNT_LAST3'] == 2:\n",
    "        return '2'\n",
    "    if row['ChargeG_Flag_COUNT_LAST3'] >= 3 :\n",
    "        return '3+'\n",
    "    return 'Other'"
   ]
  },
  {
   "cell_type": "code",
   "execution_count": null,
   "id": "c40e13f9",
   "metadata": {},
   "outputs": [],
   "source": [
    "#bu da fonksiyonun df'ye uygulanmasıdır.\n",
    "#bunu df['ChargeG_Flag_COUNT_LAST3'] = df.apply (lambda row: label_race(row), axis=1) yazarsan direkt dfnin içindeki değişkene \n",
    "#uygulayacak o nedenle df['column_name'] gibi bir şeye atasan daha iyi olur.\n",
    "\n",
    "df.apply (lambda row: label_race(row), axis=1) "
   ]
  },
  {
   "cell_type": "code",
   "execution_count": null,
   "id": "7e8bb188",
   "metadata": {},
   "outputs": [],
   "source": [
    "df['colum_name'].value_counts() #bu kod yeni grupladığın column'ın sayıları."
   ]
  },
  {
   "cell_type": "markdown",
   "id": "a0e3191f",
   "metadata": {},
   "source": [
    "# y değişkeninden kaç tane var? yüzdesi ne?\n"
   ]
  },
  {
   "cell_type": "code",
   "execution_count": null,
   "id": "0c97527e",
   "metadata": {},
   "outputs": [],
   "source": [
    "#x ve ynin oranlarını bulur\n",
    "df.groupby(['ChargeG_Flag_COUNT_LAST3','y']).size()"
   ]
  },
  {
   "cell_type": "code",
   "execution_count": null,
   "id": "efd35de5",
   "metadata": {},
   "outputs": [],
   "source": [
    "#x'le ynin sayılarını buldu, bunları unstack olarak gösterdi\n",
    "gb = df.groupby(['ChargeG_Flag_COUNT_LAST3','y']).size().unstack()"
   ]
  },
  {
   "cell_type": "code",
   "execution_count": null,
   "id": "5c424e7d",
   "metadata": {},
   "outputs": [],
   "source": []
  },
  {
   "cell_type": "code",
   "execution_count": null,
   "id": "348adc38",
   "metadata": {},
   "outputs": [],
   "source": [
    "def label_race2 (row):\n",
    "    if row['ChargeG_Flag_COUNT_LAST3'] == '0':\n",
    "        return '0.029334'\n",
    "    if row['ChargeG_Flag_COUNT_LAST3'] == '1' :\n",
    "        return '0.038971'\n",
    "    if row['ChargeG_Flag_COUNT_LAST3'] == '2':\n",
    "        return '0.088792'\n",
    "    if row['ChargeG_Flag_COUNT_LAST3'] == '3+' :\n",
    "        return '0.196553'\n",
    "    return 'Other'"
   ]
  },
  {
   "cell_type": "code",
   "execution_count": null,
   "id": "414ccadf",
   "metadata": {},
   "outputs": [],
   "source": [
    "df['y1']= df.apply (lambda row: label_race2(row), axis=1)"
   ]
  },
  {
   "cell_type": "code",
   "execution_count": null,
   "id": "4badcdea",
   "metadata": {},
   "outputs": [],
   "source": [
    "df['y1']"
   ]
  },
  {
   "cell_type": "code",
   "execution_count": null,
   "id": "9ca6122a",
   "metadata": {},
   "outputs": [],
   "source": [
    "#yukarıda label_race2 denkleminde return int dönersen grafikte daha oranlı değerler geliyor. Spesifik olmayan!\n",
    "fig = plt.figure()\n",
    "ax = df['ChargeG_Flag_COUNT_LAST3'].value_counts().plot(kind='bar')\n",
    "ax2 = ax.twinx()\n",
    "ax2.plot(df['y1'],linestyle='-', marker='o', linewidth=2.0,)\n",
    "ax2.set_ylim(0.0025,10)"
   ]
  },
  {
   "cell_type": "code",
   "execution_count": null,
   "id": "3e4a055d",
   "metadata": {},
   "outputs": [],
   "source": [
    "#ASIL GRAFİK\n",
    "\n",
    "fig = plt.figure()\n",
    "ax = df['ChargeG_Flag_COUNT_LAST3'].value_counts().plot(kind='bar',rot=0,label='Count',color='orange')\n",
    "ax.set_xlabel(\"ChargeG_Flag_COUNT_LAST3\")\n",
    "ax.set_ylabel(\"Count\")\n",
    "#plt.legend(loc=9,edgecolor=\"orange\")\n",
    "ax2 = ax.twinx()\n",
    "ax2.plot(df['y1'],linestyle='-', marker='o', linewidth=2.0,label='Percentage',color='red')\n",
    "ax2.set_ylabel(\"Percentage\")\n",
    "#plt.legend(loc=0,edgecolor=\"red\")\n",
    "\n",
    "lines_1, labels_1 = ax.get_legend_handles_labels()\n",
    "lines_2, labels_2 = ax2.get_legend_handles_labels()\n",
    "\n",
    "lines = lines_1 + lines_2\n",
    "labels = labels_1 + labels_2\n",
    "\n",
    "ax.legend(lines, labels, loc=0,edgecolor='orange')\n"
   ]
  },
  {
   "cell_type": "code",
   "execution_count": null,
   "id": "3621ac5a",
   "metadata": {},
   "outputs": [],
   "source": [
    "fig = plt.figure()\n",
    "ax=df['ChargeG_Flag_COUNT_LAST3'].value_counts().plot.bar(rot=0) #histogram grafiği çizdirir."
   ]
  },
  {
   "cell_type": "code",
   "execution_count": null,
   "id": "73c7ae08",
   "metadata": {},
   "outputs": [],
   "source": [
    "#y ve ChargeG_Flag_COUNT_LAST3 değişkeni arasındaki ilişkiyi gözlemliyoruz line grafiğiyle\n",
    "plt.plot(df['ChargeG_Flag_COUNT_LAST3'],df['y'],label ='percentage')\n",
    "\n",
    "plt.legend(fontsize=\"small\",edgecolor=\"black\",title_fontsize=12)\n",
    "plt.grid()\n",
    "plt.show()"
   ]
  },
  {
   "cell_type": "code",
   "execution_count": null,
   "id": "d4958506",
   "metadata": {},
   "outputs": [],
   "source": []
  },
  {
   "cell_type": "code",
   "execution_count": null,
   "id": "3a05f742",
   "metadata": {},
   "outputs": [],
   "source": []
  }
 ],
 "metadata": {
  "kernelspec": {
   "display_name": "Python 3",
   "language": "python",
   "name": "python3"
  },
  "language_info": {
   "codemirror_mode": {
    "name": "ipython",
    "version": 3
   },
   "file_extension": ".py",
   "mimetype": "text/x-python",
   "name": "python",
   "nbconvert_exporter": "python",
   "pygments_lexer": "ipython3",
   "version": "3.8.8"
  }
 },
 "nbformat": 4,
 "nbformat_minor": 5
}
